{
 "cells": [
  {
   "cell_type": "markdown",
   "metadata": {},
   "source": [
    "## Import Dependencies"
   ]
  },
  {
   "cell_type": "code",
   "execution_count": 1,
   "metadata": {},
   "outputs": [],
   "source": [
    "from splinter import Browser\n",
    "from bs4 import BeautifulSoup\n",
    "import pandas as pd\n",
    "import requests\n",
    "import pprint\n",
    "import re\n",
    "import shutil\n",
    "import io"
   ]
  },
  {
   "cell_type": "code",
   "execution_count": 2,
   "metadata": {},
   "outputs": [],
   "source": [
    "executable_path = {'executable_path': '/Users/vlari/chromedriver.exe'}\n",
    "browser = Browser('chrome', **executable_path, headless=False)"
   ]
  },
  {
   "cell_type": "markdown",
   "metadata": {},
   "source": [
    "## NASA Mars News"
   ]
  },
  {
   "cell_type": "markdown",
   "metadata": {},
   "source": [
    "Scrape the NASA Mars News Site (\"https://mars.nasa.gov/news/?page=0&per_page=40&order=publish_date+desc%2Ccreated_at+desc&search=&category=19%2C165%2C184%2C204&blank_scope=Latest\") and collect the latest News Title and Paragraph Text. Assign the text to variables that you can reference later."
   ]
  },
  {
   "cell_type": "markdown",
   "metadata": {},
   "source": [
    "#### Example:\n",
    "`news_title = \"NASA's Next Mars Mission to Investigate Interior of Red Planet\"`\n",
    "\n",
    "``news_p = \"Preparation of NASA's next spacecraft to Mars, InSight, has ramped up this summer, on course for launch next May from Vandenberg Air Force Base in central California -- the first interplanetary launch in history from America's West Coast.\"``"
   ]
  },
  {
   "cell_type": "code",
   "execution_count": 13,
   "metadata": {},
   "outputs": [],
   "source": [
    "news_Mars_BaseUrl = \"https://mars.nasa.gov\"\n",
    "news_Mars_url = \"https://mars.nasa.gov/news/?page=0&per_page=40&order=publish_date+desc%2Ccreated_at+desc&search=&category=19%2C165%2C184%2C204&blank_scope=Latest\"\n",
    "browser.visit(news_Mars_url)"
   ]
  },
  {
   "cell_type": "code",
   "execution_count": 4,
   "metadata": {},
   "outputs": [],
   "source": [
    "html = browser.html\n",
    "soup = BeautifulSoup(html, \"html.parser\")"
   ]
  },
  {
   "cell_type": "code",
   "execution_count": 20,
   "metadata": {},
   "outputs": [
    {
     "name": "stdout",
     "output_type": "stream",
     "text": [
      "Update on Opportunity Rover after Martian Dust Storm\n",
      "https://mars.nasa.gov/news/8364/update-on-opportunity-rover-after-martian-dust-storm/\n",
      "One month since increasing their commanding frequency, engineers have yet to hear from NASA's Opportunity rover.\n",
      "Image source \n",
      "https://mars.nasa.gov/system/news_items/list_view_images/8364_PIA21723-16bth.jpg\n"
     ]
    }
   ],
   "source": [
    "news_title = soup.find(\"div\", class_=\"content_title\").get_text()\n",
    "news_url = soup.find(\"div\", class_=\"content_title\").find(\"a\").get(\"href\")\n",
    "news_url = news_Mars_BaseUrl + news_url\n",
    "news_p = soup.find(\"div\", class_=\"article_teaser_body\").get_text()\n",
    "news_img = soup.find(\"div\", class_=\"list_image\").find(\"img\").get(\"src\")\n",
    "news_img = news_Mars_BaseUrl + news_img\n",
    "print(news_title)\n",
    "print(news_url)\n",
    "print(news_p)\n",
    "print(f\"Image source \\n{news_img}\")"
   ]
  },
  {
   "cell_type": "markdown",
   "metadata": {},
   "source": [
    "## JPL Mars Space Images - Featured Image"
   ]
  },
  {
   "cell_type": "markdown",
   "metadata": {},
   "source": [
    "Visit the url for JPL Featured Space Image \"https://www.jpl.nasa.gov/spaceimages/?search=&category=Mars\".\n",
    "\n",
    "Use splinter to navigate the site and find the image url for the current Featured Mars Image and assign the url string to a variable called featured_image_url.\n",
    "\n",
    "Make sure to find the image url to the full size .jpg image.\n",
    "\n",
    "Make sure to save a complete url string for this image."
   ]
  },
  {
   "cell_type": "code",
   "execution_count": 21,
   "metadata": {},
   "outputs": [],
   "source": [
    "img_Mars_BaseUrl = \"https://www.jpl.nasa.gov\"\n",
    "img_Mars_url = \"https://www.jpl.nasa.gov/spaceimages/?search=&category=Mars\"\n",
    "browser.visit(img_Mars_url)"
   ]
  },
  {
   "cell_type": "code",
   "execution_count": 23,
   "metadata": {},
   "outputs": [],
   "source": [
    "html = browser.html\n",
    "soup = BeautifulSoup(html, \"html.parser\")"
   ]
  },
  {
   "cell_type": "code",
   "execution_count": 24,
   "metadata": {},
   "outputs": [
    {
     "name": "stdout",
     "output_type": "stream",
     "text": [
      "Ring of Stellar Fire\n"
     ]
    }
   ],
   "source": [
    "style = soup.find('article')['style']\n",
    "caption = soup.find('article').get(\"alt\")\n",
    "urls = re.findall('url\\((.*?)\\)', style)\n",
    "print(caption)"
   ]
  },
  {
   "cell_type": "code",
   "execution_count": null,
   "metadata": {},
   "outputs": [],
   "source": [
    "img_EndUrl = urls[0][1:-1]\n",
    "img_EndUrl"
   ]
  },
  {
   "cell_type": "code",
   "execution_count": null,
   "metadata": {},
   "outputs": [],
   "source": [
    "featured_image_url = img_Mars_BaseUrl + img_EndUrl"
   ]
  },
  {
   "cell_type": "code",
   "execution_count": null,
   "metadata": {},
   "outputs": [],
   "source": [
    "# Use the requests library to download and save the image from the `img_url` above\n",
    "response = requests.get(featured_image_url, stream=True)\n",
    "with open('./static/images/mars_feat_img.png', 'wb') as out_file:\n",
    "    shutil.copyfileobj(response.raw, out_file)"
   ]
  },
  {
   "cell_type": "markdown",
   "metadata": {},
   "source": [
    "## Mars Weather"
   ]
  },
  {
   "cell_type": "markdown",
   "metadata": {},
   "source": [
    "Visit the Mars Weather twitter account (\"https://twitter.com/marswxreport?lang=en\") and scrape the latest Mars weather tweet from the page. Save the tweet text for the weather report as a variable called mars_weather."
   ]
  },
  {
   "cell_type": "code",
   "execution_count": null,
   "metadata": {},
   "outputs": [],
   "source": [
    "twitWeather_Mars_url = \"https://twitter.com/marswxreport?lang=en\"\n",
    "browser.visit(twitWeather_Mars_url)"
   ]
  },
  {
   "cell_type": "code",
   "execution_count": null,
   "metadata": {},
   "outputs": [],
   "source": [
    "html = browser.html\n",
    "soup = BeautifulSoup(html, \"html.parser\")"
   ]
  },
  {
   "cell_type": "code",
   "execution_count": null,
   "metadata": {},
   "outputs": [],
   "source": [
    "mars_weather_sol = soup.find(string = re.compile(\"Sol\")).split(\", \")\n",
    "print(mars_weather_sol)"
   ]
  },
  {
   "cell_type": "code",
   "execution_count": null,
   "metadata": {},
   "outputs": [],
   "source": [
    "mars_weather_sol = mars_weather_sol.split(\", \")"
   ]
  },
  {
   "cell_type": "code",
   "execution_count": null,
   "metadata": {},
   "outputs": [],
   "source": [
    "# This gets the latest tweet, but does not isolate weather only tweets\n",
    "# mars_weather = soup.find(\"p\", class_=\"TweetTextSize TweetTextSize--normal js-tweet-text tweet-text\").get_text()\n",
    "\n",
    "# print(mars_weather)"
   ]
  },
  {
   "cell_type": "markdown",
   "metadata": {},
   "source": [
    "## Mars Facts"
   ]
  },
  {
   "cell_type": "markdown",
   "metadata": {},
   "source": [
    "Visit the Mars Facts webpage (\"https://space-facts.com/mars/\") and use Pandas to scrape the table containing facts about the planet including Diameter, Mass, etc.\n",
    "\n",
    "Use Pandas to convert the data to a HTML table string."
   ]
  },
  {
   "cell_type": "code",
   "execution_count": null,
   "metadata": {},
   "outputs": [],
   "source": [
    "facts_Mars_url = \"https://space-facts.com/mars/\"\n",
    "browser.visit(facts_Mars_url)"
   ]
  },
  {
   "cell_type": "code",
   "execution_count": null,
   "metadata": {},
   "outputs": [],
   "source": [
    "mars_table = pd.read_html(facts_Mars_url, encoding=\"UTF-8\")\n",
    "mars_table[0]"
   ]
  },
  {
   "cell_type": "code",
   "execution_count": null,
   "metadata": {},
   "outputs": [],
   "source": [
    "Property = mars_table[0][0]\n",
    "new_col = [item[:-1] for item in Property]   \n",
    "new_col"
   ]
  },
  {
   "cell_type": "code",
   "execution_count": null,
   "metadata": {},
   "outputs": [],
   "source": [
    "mars_factDF = pd.DataFrame(data=mars_table[0][1])\n",
    "mars_factDF.columns = [\"Value\"]"
   ]
  },
  {
   "cell_type": "code",
   "execution_count": null,
   "metadata": {},
   "outputs": [],
   "source": [
    "mars_factDF[\"Property\"] = new_col\n",
    "mars_factDF = mars_factDF[[\"Property\", \"Value\"]]"
   ]
  },
  {
   "cell_type": "code",
   "execution_count": null,
   "metadata": {},
   "outputs": [],
   "source": [
    "mars_factDF"
   ]
  },
  {
   "cell_type": "code",
   "execution_count": null,
   "metadata": {},
   "outputs": [],
   "source": [
    "mars_factDF.to_html('./templates/marsFactDF.html', index=False)"
   ]
  },
  {
   "cell_type": "markdown",
   "metadata": {},
   "source": [
    "### Alter marsFactDF.html to utilize Bootstrap styles"
   ]
  },
  {
   "cell_type": "markdown",
   "metadata": {},
   "source": [
    "Used BeautifulSoup to alter tags"
   ]
  },
  {
   "cell_type": "code",
   "execution_count": null,
   "metadata": {},
   "outputs": [],
   "source": [
    "# load the file\n",
    "with open(\"./templates/marsFactDF.html\") as infile:\n",
    "    htmltxt = infile.read()\n",
    "    soup = BeautifulSoup(htmltxt, \"html\", from_encoding=\"UTF-8\")\n",
    "\n",
    "table = soup.table\n",
    "table[\"class\"] = \"table table-hover table-striped\"\n",
    "del table[\"border\"]\n",
    "\n",
    "thead = soup.thead\n",
    "thead[\"class\"] = \"thead-dark\"\n",
    "\n",
    "tr = soup.tr\n",
    "del tr[\"style\"]\n",
    "\n",
    "# save the file again\n",
    "with open(\"./templates/marsFactDFsouped.html\", \"w\") as outfile:\n",
    "    outfile.write(str(soup.table))"
   ]
  },
  {
   "cell_type": "markdown",
   "metadata": {},
   "source": [
    "### Convert to UTF-8"
   ]
  },
  {
   "cell_type": "code",
   "execution_count": null,
   "metadata": {},
   "outputs": [],
   "source": [
    "with io.open(\"./templates/marsFactDFsouped.html\",'r') as f:\n",
    "    text = f.read()\n",
    "# process Unicode text\n",
    "with io.open(\"./templates/marsFactDFsouped.html\",'w',encoding='utf8') as f:\n",
    "    f.write(text)"
   ]
  },
  {
   "cell_type": "markdown",
   "metadata": {},
   "source": [
    "## Mars Hemispheres"
   ]
  },
  {
   "cell_type": "markdown",
   "metadata": {},
   "source": [
    "Visit the USGS Astrogeology site (\"https://astrogeology.usgs.gov/search/results?q=hemisphere+enhanced&k1=target&v1=Mars\") to obtain high resolution images for each of Mar's hemispheres.\n",
    "\n",
    "You will need to click each of the links to the hemispheres in order to find the image url to the full resolution image.\n",
    "\n",
    "Save both the image url string for the full resolution hemisphere image, and the Hemisphere title containing the hemisphere name. Use a Python dictionary to store the data using the keys img_url and title.\n",
    "\n",
    "Append the dictionary with the image url string and the hemisphere title to a list. This list will contain one dictionary for each hemisphere."
   ]
  },
  {
   "cell_type": "markdown",
   "metadata": {},
   "source": [
    "``hemisphere_image_urls = [\n",
    "    {\"title\": \"Valles Marineris Hemisphere\", \"img_url\": \"...\"},\n",
    "    {\"title\": \"Cerberus Hemisphere\", \"img_url\": \"...\"},\n",
    "    {\"title\": \"Schiaparelli Hemisphere\", \"img_url\": \"...\"},\n",
    "    {\"title\": \"Syrtis Major Hemisphere\", \"img_url\": \"...\"},\n",
    "]``"
   ]
  },
  {
   "cell_type": "code",
   "execution_count": null,
   "metadata": {},
   "outputs": [],
   "source": [
    "hemis_Mars_BaseUrl = \"https://astrogeology.usgs.gov\"\n",
    "hemis_Mars_url = \"https://astrogeology.usgs.gov/search/results?q=hemisphere+enhanced&k1=target&v1=Mars\"\n",
    "browser.visit(hemis_Mars_url)"
   ]
  },
  {
   "cell_type": "code",
   "execution_count": null,
   "metadata": {},
   "outputs": [],
   "source": [
    "html = browser.html\n",
    "soup = BeautifulSoup(html, \"html.parser\")"
   ]
  },
  {
   "cell_type": "code",
   "execution_count": null,
   "metadata": {},
   "outputs": [],
   "source": [
    "mars_hemis = soup.find(\"div\", class_=\"collapsible results\").find_all(\"div\", class_=\"item\")\n",
    "titles = [item.find(\"h3\").get_text() for item in mars_hemis]"
   ]
  },
  {
   "cell_type": "code",
   "execution_count": null,
   "metadata": {},
   "outputs": [],
   "source": [
    "# Not the img source URL for displaying photo\n",
    "urls = [hemis_Mars_BaseUrl + item.find(\"a\", class_=\"itemLink product-item\").get(\"href\") for item in mars_hemis]"
   ]
  },
  {
   "cell_type": "code",
   "execution_count": null,
   "metadata": {},
   "outputs": [],
   "source": [
    "img_urls = []\n",
    "for item in urls:\n",
    "    browser.visit(item)\n",
    "    html = browser.html\n",
    "    soup = BeautifulSoup(html, \"html.parser\")\n",
    "    browser.find_by_id('wide-image-toggle').first.click()\n",
    "    img_url = soup.find(\"img\", class_=\"wide-image\").get(\"src\")\n",
    "    img_urls.append(hemis_Mars_BaseUrl + img_url)"
   ]
  },
  {
   "cell_type": "code",
   "execution_count": null,
   "metadata": {},
   "outputs": [],
   "source": [
    "def listTOdict(keys, lists):\n",
    "    if len(keys) != len(lists):\n",
    "        print(\"Parameters must be equal in length\")\n",
    "        return []\n",
    "    rows = len(lists[0])\n",
    "    cols = len(keys)\n",
    "    listed = []\n",
    "    for r in range(rows):\n",
    "        entry = {}    \n",
    "        for c in range(cols):\n",
    "            entry[keys[c]] = lists[c][r]\n",
    "        listed.append(entry)\n",
    "    return listed"
   ]
  },
  {
   "cell_type": "code",
   "execution_count": null,
   "metadata": {},
   "outputs": [],
   "source": [
    "marsKeys = [\"title\", \"url\"]\n",
    "marsLists = [titles, img_urls]\n",
    "\n",
    "hemisphere_image_urls = listTOdict(marsKeys, marsLists)"
   ]
  }
 ],
 "metadata": {
  "kernelspec": {
   "display_name": "PythonData",
   "language": "python",
   "name": "pythondata"
  },
  "language_info": {
   "codemirror_mode": {
    "name": "ipython",
    "version": 3
   },
   "file_extension": ".py",
   "mimetype": "text/x-python",
   "name": "python",
   "nbconvert_exporter": "python",
   "pygments_lexer": "ipython3",
   "version": "3.6.5"
  }
 },
 "nbformat": 4,
 "nbformat_minor": 2
}
